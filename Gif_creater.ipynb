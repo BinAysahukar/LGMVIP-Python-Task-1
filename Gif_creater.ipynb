{
 "cells": [
  {
   "cell_type": "code",
   "execution_count": 2,
   "id": "6950e430-76a8-4983-8c93-b72dace2ffd7",
   "metadata": {},
   "outputs": [],
   "source": [
    "import imageio.v2\n",
    "\n",
    "filenames = [\"open.png\", \"close.png\"]\n",
    "img = []\n",
    "count = 0\n",
    "\n",
    "# Outer loop to create an infinite loop\n",
    "while True:\n",
    "    for filename in filenames:\n",
    "        img.append(imageio.v2.imread(filename))\n",
    "        count += 1\n",
    "        if count == 5:  # Break condition to stop after 5 images\n",
    "            break\n",
    "    if count == 5:  # Break the outer loop as well\n",
    "        break\n",
    "\n",
    "# Save the images as an animated GIF\n",
    "imageio.v2.mimsave('eye.gif', img, format='GIF', duration=4)\n"
   ]
  },
  {
   "cell_type": "code",
   "execution_count": null,
   "id": "1186022f-310a-4ba4-ac3a-20b01f894cdb",
   "metadata": {},
   "outputs": [],
   "source": []
  }
 ],
 "metadata": {
  "kernelspec": {
   "display_name": "Python 3 (ipykernel)",
   "language": "python",
   "name": "python3"
  },
  "language_info": {
   "codemirror_mode": {
    "name": "ipython",
    "version": 3
   },
   "file_extension": ".py",
   "mimetype": "text/x-python",
   "name": "python",
   "nbconvert_exporter": "python",
   "pygments_lexer": "ipython3",
   "version": "3.11.9"
  }
 },
 "nbformat": 4,
 "nbformat_minor": 5
}
